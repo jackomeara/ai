{
 "cells": [
  {
   "cell_type": "code",
   "execution_count": 3,
   "id": "cfd60e31-615a-41e4-a1b5-c28eee53d365",
   "metadata": {},
   "outputs": [],
   "source": [
    "%load_ext autoreload\n",
    "%autoreload 2\n",
    "%matplotlib inline"
   ]
  },
  {
   "cell_type": "code",
   "execution_count": 17,
   "id": "2cbf0d2e-680a-440a-ac58-a8d5e5dea176",
   "metadata": {},
   "outputs": [],
   "source": [
    "import pandas as pd\n",
    "import numpy as np\n",
    "import matplotlib.pyplot as plt\n",
    "\n",
    "from sklearn.model_selection import train_test_split\n",
    "from sklearn.model_selection import ShuffleSplit"
   ]
  },
  {
   "cell_type": "markdown",
   "id": "78657901-efa9-4aa0-8d8d-aee0c6d5d71e",
   "metadata": {},
   "source": [
    "# House Price Prediction\n",
    "Attempting to predict house price using various techniques including evaluating instance-based and model-based approaches\n",
    "\n",
    "Dataset of daft listings from kaggle [can be found here](https://www.kaggle.com/datasets/eavannan/daftie-house-price-data/)"
   ]
  },
  {
   "cell_type": "markdown",
   "id": "7c91497f-0c9b-4a60-8d6e-719a884984b3",
   "metadata": {},
   "source": [
    "### Dataset Analysis"
   ]
  },
  {
   "cell_type": "code",
   "execution_count": 15,
   "id": "4b413083-20b1-4c6c-ac5e-d17a0e60aaec",
   "metadata": {},
   "outputs": [],
   "source": [
    "df = pd.read_csv(\"datasets/house_prices.csv\")\n",
    "\n",
    "# shuffle dataset\n",
    "df = df.sample(frac=1, random_state=2)\n",
    "df.reset_index(drop=True, inplace=True)\n",
    "\n",
    "# specify predictive features - start with basic features\n",
    "features = [\"numBedrooms\", \"numBathrooms\", \"propertySize\"]\n",
    "\n",
    "# split off test set\n",
    "dev_df, test_df = train_test_split(df, train_size=0.8, random_state=2)\n",
    "dev_X = dev_df[features]\n",
    "test_X = test_df[features]\n",
    "dev_y = dev_df[\"price\"].values\n",
    "test_y = test_df[\"price\"].values\n"
   ]
  },
  {
   "cell_type": "code",
   "execution_count": 18,
   "id": "ca0a5f20-1cf5-4b31-a16b-e4f534f4984e",
   "metadata": {},
   "outputs": [],
   "source": [
    "# split dev data into training data and validation data\n",
    "ss = ShuffleSplit(n_splits=1, train_size=0.75, random_state=2)"
   ]
  },
  {
   "cell_type": "code",
   "execution_count": null,
   "id": "76e4a16d-340e-48fc-af95-cf945fdc3c58",
   "metadata": {},
   "outputs": [],
   "source": [
    "# "
   ]
  }
 ],
 "metadata": {
  "kernelspec": {
   "display_name": "Python 3 (ipykernel)",
   "language": "python",
   "name": "python3"
  },
  "language_info": {
   "codemirror_mode": {
    "name": "ipython",
    "version": 3
   },
   "file_extension": ".py",
   "mimetype": "text/x-python",
   "name": "python",
   "nbconvert_exporter": "python",
   "pygments_lexer": "ipython3",
   "version": "3.11.0"
  }
 },
 "nbformat": 4,
 "nbformat_minor": 5
}
